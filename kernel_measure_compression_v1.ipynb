{
 "cells": [
  {
   "cell_type": "markdown",
   "metadata": {},
   "source": [
    "# Python / Tensorflow implementation of the kernel measure compression algorithm\n",
    "\n",
    "In this notebook you can find a Python / Tensorflow implementation of the kernel measure compression algorithm in the paper\n",
    "\"Algorithms that get old : the case of generative deep neural networks\" published in the LOD conference proceedings and arXiv:2202.03008 [stat.ML], direct link : https://arxiv.org/abs/2202.03008\n",
    "\n"
   ]
  },
  {
   "cell_type": "markdown",
   "metadata": {},
   "source": [
    "## Library imports"
   ]
  },
  {
   "cell_type": "code",
   "execution_count": 1,
   "metadata": {
    "id": "yDREzn4D013U"
   },
   "outputs": [],
   "source": [
    "import tensorflow as tf\n",
    "import matplotlib.pyplot as plt\n",
    "import numpy as np\n",
    "from scipy.stats import bernoulli \n",
    "from scipy.special import softmax as scipy_softmax\n",
    "import pandas as pd\n",
    "from tqdm import tqdm"
   ]
  },
  {
   "cell_type": "code",
   "execution_count": 2,
   "metadata": {
    "id": "ad17w12t44HV"
   },
   "outputs": [],
   "source": [
    "K=3*16#number of Dirac masses in the compressed distribution\n",
    "N=2#ambient dimension\n",
    "J=1000#how many samples are included: more the better, otherwise there are oscillations in the SGD/Adam convergence\n",
    "optimize_weights=True\n",
    "optimize_weights=False\n",
    "\n",
    "quant=tf.Variable(np.random.rand(N,K),dtype=tf.float32)#this will be the set of quantization variables\n",
    "if(optimize_weights):\n",
    "  alphas=tf.Variable(np.ones(K)/K,dtype=tf.float32)#this will be the set of quantization weights\n",
    "\n",
    "def loss(quant,batch):\n",
    "  #sum_dist_normal=tf.math.sqrt ...\n",
    "  return None \n"
   ]
  },
  {
   "cell_type": "markdown",
   "metadata": {
    "id": "dUx_yFYkO6jC"
   },
   "source": [
    "## Define empirical sampling\n",
    "\n",
    "Here is the place where one defines the target measure to be compressed. It is usually given by a function that returns i.i.d samples from this measure."
   ]
  },
  {
   "cell_type": "code",
   "execution_count": 3,
   "metadata": {
    "id": "wA0jqKb0O5zU"
   },
   "outputs": [],
   "source": [
    "def empirical_sampling_multiD_gaussian(tmpN=N,tmpJ=J):\n",
    "    ''' sample from the empirical, target distribution: size as Y\n",
    "    Here the target is a N-dimensional Gaussian distribution\n",
    "    '''    \n",
    "    return np.random.randn(tmpN,tmpJ)\n",
    "\n",
    "my_bernoulli=bernoulli(0.3)\n",
    "\n",
    "def empirical_sampling_mixture_two_gaussians(tmpN=N,tmpJ=J):\n",
    "    ''' sample from the empirical, target distribution: size as Y\n",
    "    this returns samples under a mixture of two gaussians, one centered in (-5,5) the other in (5,5)\n",
    "    '''    \n",
    "    return np.random.randn(tmpN,tmpJ)-5+10*my_bernoulli.rvs(tmpJ)\n",
    "\n",
    "\n",
    "def empirical_sampling_mixture_2D_16_gaussians(tmpN=N,tmpJ=J):\n",
    "    ''' sample from the empirical, target distribution: size as Y\n",
    "    this returns samples under a mixture of 16 gaussians, centered on a regular grid (i,j)\n",
    "    '''    \n",
    "    assert(tmpN==2), \"invalid dimension in 2D 16-Gaussian mixture sampling\"\n",
    "    return np.random.randn(tmpN,tmpJ)+ 5*np.array([np.random.choice(4,tmpJ),np.random.choice(4,tmpJ)])\n",
    "\n",
    "# 1 N-dim Gaussian\n",
    "#empirical_sampling=empirical_sampling_multiD_gaussian\n",
    "#centers=np.array([[0,0]])\n",
    "\n",
    "#empirical_sampling=empirical_sampling_mixture_two_gaussians \n",
    "\n",
    "#16 2D Gaussian on a grid\n",
    "empirical_sampling=empirical_sampling_mixture_2D_16_gaussians \n",
    "centers=np.reshape(5*np.array([[(i,j) for j in [0,1,2,3]] for i in [0,1,2,3]]),(-1,2))\n",
    "\n"
   ]
  },
  {
   "cell_type": "markdown",
   "metadata": {
    "id": "O7MGq68ePrx4"
   },
   "source": [
    "# Empirical Radon Sobolev distance"
   ]
  },
  {
   "cell_type": "code",
   "execution_count": 4,
   "metadata": {
    "colab": {
     "base_uri": "https://localhost:8080/"
    },
    "id": "fckbeiy8Pwh5",
    "outputId": "9b3befb7-8640-45ba-afed-29764a9d587d"
   },
   "outputs": [
    {
     "name": "stdout",
     "output_type": "stream",
     "text": [
      "tf.Tensor(1.4142265, shape=(), dtype=float32)\n",
      "tf.Tensor(0.234323, shape=(), dtype=float32)\n",
      "tf.Tensor(0.14644536, shape=(), dtype=float32)\n"
     ]
    }
   ],
   "source": [
    "\n",
    "def empirical_radon_sobolev_distance_sq(X,Y,local_alphas=None,betas=None):\n",
    "    '''\n",
    "    \n",
    "\n",
    "    Parameters\n",
    "    ----------\n",
    "    X : 2D NxK matrix\n",
    "        input data sample, each column a vector of dimension N, notation X_k\n",
    "    Y : same as X for the second distribution\n",
    "    alphas : 1D array of weights for X\n",
    "    betas : same as alphas for Y \n",
    "\n",
    "    Note: X,alphas are Tensor/Variable while Y/betas are numpy array\n",
    "\n",
    "    Returns\n",
    "    -------\n",
    "    Radon-Sobolev distance\n",
    "    \n",
    "    '''\n",
    "    N,K=X.shape\n",
    "    Ny,J=Y.shape\n",
    "    Ytensor = tf.convert_to_tensor(Y, dtype=tf.float32)\n",
    "\n",
    "    if local_alphas is None:\n",
    "      alphas = tf.convert_to_tensor(np.ones(K)/K,dtype=tf.float32)\n",
    "    else:\n",
    "      alphas=tf.nn.softmax(local_alphas)\n",
    "    if betas is None:\n",
    "        betas = np.ones(J)/J\n",
    "    betastensor = tf.convert_to_tensor(betas, dtype=tf.float32)\n",
    "    \n",
    "    assert (tf.rank(X).numpy()==2) & (Y.ndim==2) & (tf.rank(alphas).numpy()==1) & (betas.ndim==1),\"invalid input dimensions\"\n",
    "    Ka,=alphas.shape\n",
    "    Jb,=betas.shape\n",
    "    assert (N==Ny)& (K==Ka)&(J==Jb), 'invalid input dimensions'\n",
    "\n",
    "    points=tf.concat([X,Ytensor],axis=1)\n",
    "    gammas=tf.concat([alphas,-betastensor],axis=0)\n",
    "    distZZ = tf.math.sqrt(1.0e-10+tf.math.reduce_sum(tf.square(tf.expand_dims(points,2)-tf.expand_dims(points,1)),axis=0))-1.0e-5\n",
    "\n",
    "    return tf.squeeze(-0.5*tf.expand_dims(gammas,0)@distZZ@tf.expand_dims(gammas,1))\n",
    "\n",
    "\n",
    "print(empirical_radon_sobolev_distance_sq(tf.ones([N,K]),tf.zeros([N,J])))\n",
    "print(empirical_radon_sobolev_distance_sq(tf.zeros([1,1]),empirical_sampling_multiD_gaussian(tmpN=1,tmpJ=1000)))\n",
    "print(empirical_radon_sobolev_distance_sq( tf.convert_to_tensor( np.array([[-1,1],[-1,1]]), dtype=tf.float32),\n",
    "                                          np.array([[-1,-1,1,1],[-1,1,-1,1]])))"
   ]
  },
  {
   "cell_type": "markdown",
   "metadata": {},
   "source": [
    "## Main optimization loop"
   ]
  },
  {
   "cell_type": "code",
   "execution_count": 5,
   "metadata": {
    "colab": {
     "base_uri": "https://localhost:8080/",
     "height": 324
    },
    "id": "xZaOqkTl0hRr",
    "outputId": "ea1827bd-1a45-4c10-8bab-7b4e1f082744"
   },
   "outputs": [
    {
     "name": "stderr",
     "output_type": "stream",
     "text": [
      "100%|██████████████████████████████████████████████████████████████████████████████| 1000/1000 [01:01<00:00, 16.30it/s]\n"
     ]
    },
    {
     "name": "stdout",
     "output_type": "stream",
     "text": [
      "quant= [[ 5.3093157   0.682921   15.456997    0.23340558 14.771892   15.4533615\n",
      "  -0.71028054  9.490565   13.38673     3.7918675   3.9742148   0.84803516\n",
      "  -0.8538658  14.27294     4.6380143  10.984693   -0.67901206 15.369488\n",
      "   4.9526696   9.751066    9.245594    2.6414666   6.341574    3.7910347\n",
      "  15.71351    -0.36242786 14.295924   -0.5137076  10.982422    3.9773533\n",
      "   9.464758   10.992154    9.091683    9.646452   -0.3020533  15.492368\n",
      "   5.0246243   5.7287245   9.501602    5.902519    0.67150533  9.689404\n",
      "   5.5215173  16.101797   11.209333   13.961465   15.657073   -0.87177265]\n",
      " [14.189471   15.359586    4.247375    9.543268    0.8460349   8.917108\n",
      "  -1.1015898  11.1290865   4.482312   15.296689    8.661717   -0.26037204\n",
      "  10.289277   10.151545    5.6709347   0.02230444  6.3772964  14.064197\n",
      "  10.397947    3.904165    0.34173298 11.235192    9.750341    4.022881\n",
      "  10.851737    1.0900495  -0.8851819   4.222088    5.718074    0.22316016\n",
      "  16.017618   14.995735    5.5960097   9.294191   13.559809    5.8121405\n",
      "  -1.2001138   0.35912117 14.26924     4.4814396   5.069706   -1.2261786\n",
      "  15.800182   -0.428698   10.111427   15.170532   15.85437    15.574118  ]]  step_count= 1000  alphas= [0.02083333 0.02083333 0.02083333 0.02083333 0.02083333 0.02083333\n",
      " 0.02083333 0.02083333 0.02083333 0.02083333 0.02083333 0.02083333\n",
      " 0.02083333 0.02083333 0.02083333 0.02083333 0.02083333 0.02083333\n",
      " 0.02083333 0.02083333 0.02083333 0.02083333 0.02083333 0.02083333\n",
      " 0.02083333 0.02083333 0.02083333 0.02083333 0.02083333 0.02083333\n",
      " 0.02083333 0.02083333 0.02083333 0.02083333 0.02083333 0.02083333\n",
      " 0.02083333 0.02083333 0.02083333 0.02083333 0.02083333 0.02083333\n",
      " 0.02083333 0.02083333 0.02083333 0.02083333 0.02083333 0.02083333]\n"
     ]
    },
    {
     "data": {
      "text/plain": [
       "<BarContainer object of 48 artists>"
      ]
     },
     "execution_count": 5,
     "metadata": {},
     "output_type": "execute_result"
    },
    {
     "data": {
      "image/png": "[encoded data removed]",
      "text/plain": [
       "<Figure size 432x288 with 3 Axes>"
      ]
     },
     "metadata": {
      "needs_background": "light"
     },
     "output_type": "display_data"
    }
   ],
   "source": [
    "opt = tf.keras.optimizers.Adam(learning_rate=0.1,beta_1=0.9, beta_2=0.999)# TODO: use lr_schedule for step decay schedule !\n",
    "\n",
    "if (optimize_weights):   \n",
    "  loss_quant = lambda: empirical_radon_sobolev_distance_sq(quant,empirical_sampling(),alphas)\n",
    "else:\n",
    "  loss_quant = lambda: empirical_radon_sobolev_distance_sq(quant,empirical_sampling())\n",
    "\n",
    "\n",
    "nr_iter=1000\n",
    "loss_val=[]\n",
    "opt_val=[]\n",
    "alphas_raw_val=[]\n",
    "alphas_true_val=[]\n",
    "\n",
    "for sc in tqdm(range(nr_iter)):\n",
    "  #step_count = opt.minimize(loss, [var1]).numpy()\n",
    "  if (optimize_weights):   \n",
    "    step_count = opt.minimize(loss_quant, [quant,alphas]).numpy()\n",
    "  else:\n",
    "    step_count = opt.minimize(loss_quant, [quant]).numpy()\n",
    "\n",
    "\n",
    "  opt_val.append(quant.numpy())\n",
    "  loss_val.append(loss_quant())\n",
    "\n",
    "if (optimize_weights):   \n",
    "  alphas_raw_val.append(alphas.numpy())\n",
    "  alphas_true_val.append(scipy_softmax(alphas.numpy()))\n",
    "else:\n",
    "  alphas_raw_val.append(np.ones(K)/K)\n",
    "  alphas_true_val.append(np.ones(K)/K)\n",
    "\n",
    "print('quant=',quant.numpy(),' step_count=',step_count,' alphas=',alphas_true_val[-1])\n",
    "plt.figure(1)\n",
    "plt.subplot(1,3,1)\n",
    "plt.semilogy(loss_val)\n",
    "df = pd.Series(loss_val)\n",
    "plt.semilogy(np.array(df.ewm(span=10).mean()))\n",
    "ax2=plt.subplot(1,3,2)\n",
    "plt.scatter(np.array(opt_val)[-1,0,:],np.array(opt_val)[-1,1,:])\n",
    "ax2.set_aspect(1.)\n",
    "plt.subplot(1,3,3)\n",
    "plt.bar(list(np.arange(alphas_raw_val[-1].shape[0])),alphas_true_val[-1])"
   ]
  },
  {
   "cell_type": "markdown",
   "metadata": {},
   "source": [
    "## Further plots and outputs"
   ]
  },
  {
   "cell_type": "code",
   "execution_count": 6,
   "metadata": {
    "colab": {
     "base_uri": "https://localhost:8080/"
    },
    "id": "uEsUI9PG0KOI",
    "outputId": "353599d4-96db-4031-9a72-1835ce65d3fd",
    "scrolled": true
   },
   "outputs": [
    {
     "name": "stdout",
     "output_type": "stream",
     "text": [
      "final loss value [<tf.Tensor: shape=(), dtype=float32, numpy=0.008856691>]\n",
      "final compression points [[ 5.3093157   0.682921   15.456997    0.23340558 14.771892   15.4533615\n",
      "  -0.71028054  9.490565   13.38673     3.7918675   3.9742148   0.84803516\n",
      "  -0.8538658  14.27294     4.6380143  10.984693   -0.67901206 15.369488\n",
      "   4.9526696   9.751066    9.245594    2.6414666   6.341574    3.7910347\n",
      "  15.71351    -0.36242786 14.295924   -0.5137076  10.982422    3.9773533\n",
      "   9.464758   10.992154    9.091683    9.646452   -0.3020533  15.492368\n",
      "   5.0246243   5.7287245   9.501602    5.902519    0.67150533  9.689404\n",
      "   5.5215173  16.101797   11.209333   13.961465   15.657073   -0.87177265]\n",
      " [14.189471   15.359586    4.247375    9.543268    0.8460349   8.917108\n",
      "  -1.1015898  11.1290865   4.482312   15.296689    8.661717   -0.26037204\n",
      "  10.289277   10.151545    5.6709347   0.02230444  6.3772964  14.064197\n",
      "  10.397947    3.904165    0.34173298 11.235192    9.750341    4.022881\n",
      "  10.851737    1.0900495  -0.8851819   4.222088    5.718074    0.22316016\n",
      "  16.017618   14.995735    5.5960097   9.294191   13.559809    5.8121405\n",
      "  -1.2001138   0.35912117 14.26924     4.4814396   5.069706   -1.2261786\n",
      "  15.800182   -0.428698   10.111427   15.170532   15.85437    15.574118  ]]\n"
     ]
    }
   ],
   "source": [
    "print(\"final loss value\",loss_val[-1:])\n",
    "print(\"final compression points\",opt_val[-1])"
   ]
  },
  {
   "cell_type": "code",
   "execution_count": 7,
   "metadata": {
    "colab": {
     "base_uri": "https://localhost:8080/",
     "height": 291
    },
    "id": "mTK6zxJ5vOx1",
    "outputId": "e1c48bbc-8b97-4761-b3e2-fd7618d282a1"
   },
   "outputs": [
    {
     "data": {
      "text/plain": [
       "<BarContainer object of 48 artists>"
      ]
     },
     "execution_count": 7,
     "metadata": {},
     "output_type": "execute_result"
    },
    {
     "data": {
      "image/png": "[encoded data removed]",
      "text/plain": [
       "<Figure size 432x288 with 3 Axes>"
      ]
     },
     "metadata": {
      "needs_background": "light"
     },
     "output_type": "display_data"
    }
   ],
   "source": [
    "plt.figure(1)\n",
    "plt.subplot(1,3,1)\n",
    "plt.loglog(loss_val)\n",
    "df = pd.Series(loss_val)\n",
    "plt.loglog(np.array(df.ewm(span=10).mean()))\n",
    "ax2=plt.subplot(1,3,2)\n",
    "plt.scatter(np.array(opt_val)[-1,0,:],np.array(opt_val)[-1,1,:])\n",
    "ax2.set_aspect(1.)\n",
    "plt.subplot(1,3,3)\n",
    "plt.bar(list(np.arange(alphas_raw_val[-1].shape[0])),alphas_true_val[-1])\n"
   ]
  },
  {
   "cell_type": "code",
   "execution_count": 8,
   "metadata": {
    "colab": {
     "base_uri": "https://localhost:8080/",
     "height": 297
    },
    "id": "mrlPFQwQd3Es",
    "outputId": "232ac261-189c-43dd-b51b-715692874273"
   },
   "outputs": [
    {
     "data": {
      "image/png": "[encoded data removed]",
      "text/plain": [
       "<Figure size 432x288 with 1 Axes>"
      ]
     },
     "metadata": {
      "needs_background": "light"
     },
     "output_type": "display_data"
    }
   ],
   "source": [
    "#only plot the middle one\n",
    "plt.figure(2)\n",
    "ax2=plt.subplot(1,1,1)\n",
    "plt.scatter(np.array(opt_val)[-1,0,:],np.array(opt_val)[-1,1,:])\n",
    "plt.scatter(centers[:,0],centers[:,1])\n",
    "ax2.set_aspect(1.)\n",
    "plt.tight_layout()\n",
    "plt.savefig('16_Gaussians_K'+str(K)+'.pdf')"
   ]
  }
 ],
 "metadata": {
  "colab": {
   "name": "quantization_v2_3_10kiter_N2K3_1gaussian.ipynb",
   "provenance": []
  },
  "kernelspec": {
   "display_name": "Python 3",
   "language": "python",
   "name": "python3"
  },
  "language_info": {
   "codemirror_mode": {
    "name": "ipython",
    "version": 3
   },
   "file_extension": ".py",
   "mimetype": "text/x-python",
   "name": "python",
   "nbconvert_exporter": "python",
   "pygments_lexer": "ipython3",
   "version": "3.8.5"
  }
 },
 "nbformat": 4,
 "nbformat_minor": 1
}
